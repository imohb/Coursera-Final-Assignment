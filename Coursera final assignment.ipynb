{
 "cells": [
  {
   "cell_type": "markdown",
   "metadata": {},
   "source": [
    "# My Jupyter Notebook onIBM Watson Studio"
   ]
  },
  {
   "cell_type": "markdown",
   "metadata": {},
   "source": [
    "## Imoh Bassey Essien\n",
    "Molecular Geneticist"
   ]
  },
  {
   "cell_type": "markdown",
   "metadata": {},
   "source": [
    "## Italics\n",
    "_I am interested in data science because i am very curious about data. My ultimate goal is to specialize in computational genomics and data science, where I can apply analytical methods and mathematical modeling techniques to study genomic systems_"
   ]
  },
  {
   "cell_type": "markdown",
   "metadata": {},
   "source": [
    "### My code is going to calculate the number of seconds in four years"
   ]
  },
  {
   "cell_type": "code",
   "execution_count": 1,
   "metadata": {},
   "outputs": [
    {
     "name": "stdout",
     "output_type": "stream",
     "text": [
      "126144000\n"
     ]
    }
   ],
   "source": [
    "num_years= 4\n",
    "days_per_year = 365\n",
    "hours_per_day = 24\n",
    "mins_per_hour=60\n",
    "secs_per_min=60\n",
    "print(num_years*days_per_year*hours_per_day*mins_per_hour*secs_per_min)\n"
   ]
  },
  {
   "cell_type": "markdown",
   "metadata": {},
   "source": [
    "## Horizontal Rule\n",
    "\n",
    "| name  | age  | grades|\n",
    "| ------ | ------ | ------|\n",
    "| Imoh |  29 |  A |\n",
    "| Seun |  27 |   B |\n",
    "| Yetty|  30 |  C |\n",
    "|sheriff| 25  | A  |"
   ]
  },
  {
   "cell_type": "markdown",
   "metadata": {},
   "source": [
    "## Bulleted list\n",
    "### List of names in my class\n",
    "\n",
    "* Imoh Essien\n",
    "* Micheal Alabi\n",
    "* Ruth Obaado\n",
    "* Mayowa ABiodun\n",
    "* Daniel Okpaise\n",
    "* Yetunde Abogunrin"
   ]
  },
  {
   "cell_type": "markdown",
   "metadata": {},
   "source": [
    "## Blocked quotes\n",
    "### A quote from Tiger woods\n",
    "> Leadership as a chance to be a role model because you can influence a person’s life in a positive light. "
   ]
  },
  {
   "cell_type": "markdown",
   "metadata": {},
   "source": [
    " ### Syntax Highlighting\n",
    " \n",
    " ```javascript         \n",
    "function language() {\n",
    "  console.log(\"markdown\");\n",
    "}\n",
    "```"
   ]
  },
  {
   "cell_type": "code",
   "execution_count": null,
   "metadata": {},
   "outputs": [],
   "source": []
  }
 ],
 "metadata": {
  "kernelspec": {
   "display_name": "Python 3 (ipykernel)",
   "language": "python",
   "name": "python3"
  },
  "language_info": {
   "codemirror_mode": {
    "name": "ipython",
    "version": 3
   },
   "file_extension": ".py",
   "mimetype": "text/x-python",
   "name": "python",
   "nbconvert_exporter": "python",
   "pygments_lexer": "ipython3",
   "version": "3.9.12"
  }
 },
 "nbformat": 4,
 "nbformat_minor": 4
}
