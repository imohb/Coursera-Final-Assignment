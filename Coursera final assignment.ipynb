{
  "metadata": {
    "language_info": {
      "codemirror_mode": {
        "name": "python",
        "version": 3
      },
      "file_extension": ".py",
      "mimetype": "text/x-python",
      "name": "python",
      "nbconvert_exporter": "python",
      "pygments_lexer": "ipython3",
      "version": "3.8"
    },
    "kernelspec": {
      "name": "python",
      "display_name": "Pyolite",
      "language": "python"
    }
  },
  "nbformat_minor": 4,
  "nbformat": 4,
  "cells": [
    {
      "cell_type": "markdown",
      "source": "# My Jupyter Notebook onIBM Watson Studio",
      "metadata": {}
    },
    {
      "cell_type": "markdown",
      "source": "## Imoh Bassey Essien\nMolecular Geneticist",
      "metadata": {}
    },
    {
      "cell_type": "markdown",
      "source": "### My code is going to calculate the number of seconds in four years",
      "metadata": {}
    },
    {
      "cell_type": "code",
      "source": "num_years= 4\ndays_per_year = 365\nhours_per_day = 24\nmins_per_hour=60\nsecs_per_min=60\nprint(num_years*days_per_year*hours_per_day*mins_per_hour*secs_per_min)\n",
      "metadata": {
        "trusted": true
      },
      "execution_count": 1,
      "outputs": [
        {
          "name": "stdout",
          "text": "126144000\n",
          "output_type": "stream"
        }
      ]
    },
    {
      "cell_type": "markdown",
      "source": "## Horizontal Rule\n\n| name  | age  | grades|\n| ------ | ------ | ------|\n| Imoh |  29 |  A |\n| Seun |  27 |   B |\n| Yetty|  30 |  C |\n|sheriff| 25  | A  |",
      "metadata": {}
    },
    {
      "cell_type": "markdown",
      "source": "## Bulleted list\n### List of names in my class\n\n* Imoh Essien\n* Micheal Alabi\n* Ruth Obaado\n* Mayowa ABiodun\n* Daniel Okpaise\n* Yetunde Abogunrin",
      "metadata": {}
    },
    {
      "cell_type": "markdown",
      "source": "## Blocked quotes\n### A quote from Tiger woods\n> Leadership as a chance to be a role model because you can influence a person’s life in a positive light. ",
      "metadata": {}
    },
    {
      "cell_type": "markdown",
      "source": " ### Syntax Highlighting\n \n ```javascript         \nfunction language() {\n  console.log(\"markdown\");\n}\n```",
      "metadata": {}
    },
    {
      "cell_type": "code",
      "source": "",
      "metadata": {},
      "execution_count": null,
      "outputs": []
    }
  ]
}